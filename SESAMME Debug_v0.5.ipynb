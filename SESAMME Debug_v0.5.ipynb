{
 "cells": [
  {
   "cell_type": "markdown",
   "id": "eb9fdcb5",
   "metadata": {},
   "source": [
    "# SESAMME Demo"
   ]
  },
  {
   "cell_type": "markdown",
   "id": "229a44c5",
   "metadata": {},
   "source": [
    "## 1) Goals and introduction <a name=\"Introduction\"></a>"
   ]
  },
  {
   "cell_type": "markdown",
   "id": "e607dd1d",
   "metadata": {},
   "source": [
    "This notebook will walk users through the functionality of **SESAMME - \n",
    "Simultaneous Estimates of Star-cluster Age, Metallicity, Mass, and Extinction -** v1.0, which is a Python script for Bayesian inference of the properties of extragalactic star clusters.\n",
    "\n",
    "SESAMME is built on a combination of the affine invariant Markov chain Monte Carlo algorithm `emcee` (Foreman-Mackey et al. 2013) and user-specified suites of stellar population models (SSPs - for example, BPASS v2.2 \"Tuatara\" (Stanway & Eldridge 2018) and/or v2.3 \"Broc\" (Bryne+ 2022)). As the name implies, SESAMME v1.0 marginalizes over four physical parameters - the age, metallicity, and sometimes the mass of the star cluster, as well as the degree of reddening along the line of sight.\n",
    "\n",
    "By the end of this tutorial, you will have a working example of how to:\n",
    "1. Set up and execute a SESAMME run; and\n",
    "2. Perform standard post-processing analyses of the resulting fits.\n",
    "\n",
    "\n",
    "For an example of how to prepare a SESAMME model cube, please see the accompanying notebook SESAMME Cubemaker Demo. That notebook also shows an example of how to smooth and rebin a spectrum for comparison with BPASS SSP models, with the caveat that our methods may not be optimal for your science uses. "
   ]
  },
  {
   "cell_type": "markdown",
   "id": "ff50a5b8",
   "metadata": {},
   "source": [
    "1. [Introduction](#Introduction)\n",
    "2. [Imports](#Imports)\n",
    "3. [Setting up SESAMME's meta-parameters](#Setup)\n",
    "4. [Starting a SESAMME run](#Run)\n",
    "\n",
    "5. [Post-run analyses](#Post)\n",
    "    1. [Cleaning the MCMC chain](#Burn)\n",
    "    2. [Corner plots and statistics](#Corner)\n",
    "    3. [Visualizing a likely model](#Visualization)"
   ]
  },
  {
   "cell_type": "markdown",
   "id": "bd5eca64",
   "metadata": {},
   "source": [
    "## 2) Imports <a name=\"Imports\"></a>"
   ]
  },
  {
   "cell_type": "markdown",
   "id": "96f2cb54",
   "metadata": {},
   "source": [
    "This notebook (and SESAMME generally) uses the following packages:\n",
    "\n",
    "* **numpy** and **scipy** for handling array functions\n",
    "* **astropy** for handling FITS files and the astropy-affiliated package **specutils** for manipulating spectra\n",
    "* **emcee** (https://emcee.readthedocs.io/en/stable/) for the MCMC machinery\n",
    "* **extinction** (https://extinction.readthedocs.io/en/latest/) and **dust_extinction** (https://dust-extinction.readthedocs.io/en/stable/) for accessing extinction curves\n",
    "* **matplotlib** and **corner** for data visualization \n",
    "\n",
    "If you do not have these packages installed, you can install them using pip or conda."
   ]
  },
  {
   "cell_type": "code",
   "execution_count": null,
   "id": "149e8ae2",
   "metadata": {
    "ExecuteTime": {
     "end_time": "2023-08-06T15:52:59.648618Z",
     "start_time": "2023-08-06T15:52:59.640288Z"
    }
   },
   "outputs": [],
   "source": [
    "### File and unit handling tools\n",
    "from astropy.io import fits\n",
    "import astropy.units as u\n",
    "from astropy import constants as const\n",
    "\n",
    "\n",
    "### Dust models\n",
    "import extinction, dust_extinction\n",
    "from dust_extinction.parameter_averages import G23\n",
    "from dust_extinction.averages import G03_LMCAvg, G03_SMCBar\n",
    "\n",
    "\n",
    "### Manipulating arrays\n",
    "import numpy as np\n",
    "from scipy import interpolate\n",
    "from specutils import Spectrum1D\n",
    "import emcee\n",
    "\n",
    "\n",
    "### Data visualization\n",
    "import matplotlib.pyplot as plt\n",
    "from matplotlib.colors import LogNorm, SymLogNorm, ListedColormap, BoundaryNorm, Normalize\n",
    "import matplotlib.patches as patches\n",
    "from matplotlib.collections import LineCollection\n",
    "import corner\n",
    "from IPython.display import display, Math\n",
    "\n",
    "plt.rcParams.update({'font.size': 12, 'font.weight': 'semibold', 'axes.labelsize': 12, \n",
    "                     'axes.labelweight':'semibold'})\n",
    "\n",
    "%matplotlib notebook\n",
    "\n",
    "\n",
    "import os, sys, warnings, time\n",
    "\n",
    "os.environ[\"OMP_NUM_THREADS\"] = \"1\""
   ]
  },
  {
   "cell_type": "markdown",
   "id": "78250ff5",
   "metadata": {},
   "source": [
    "## 3) Setting up SESAMME's meta-parameters"
   ]
  },
  {
   "cell_type": "markdown",
   "id": "f2dd1977",
   "metadata": {},
   "source": [
    "Before using SESAMME to model your spectrum, there are several meta-parameters that should be tweaked to fit your use case. These include specifying the attenuation curve used in the modeling; the size of the walker ensemble; the \"ball\" of initial positions for the walker ensemble; and ranges on the priors for each of the four variables.\n",
    "\n",
    "\n",
    "**Choosing an attenuation curve**\n",
    "\n",
    "During the model process, SESAMME will redden a model SSP by a specified amount using one of several attenuation curves. See the documentation for reference information on each curve. The options include:\n",
    "* Five options for a Milky Way-like curve ('CCM', 'ODonnell', 'Fitzpatrick99', 'FitzMassa07', 'Gordon23')\n",
    "* Curves based on the Large Magellanic Cloud ('LMC') and Small Magellanic Cloud ('SMC')\n",
    "* A starbursting galaxy curve ('Calzetti')\n",
    "\n",
    "The default option in the script version of SESAMME is the Milky Way attenuation curve of Cardelli, Clayton, & Mathis (1989). "
   ]
  },
  {
   "cell_type": "code",
   "execution_count": null,
   "id": "8117d1c7",
   "metadata": {
    "ExecuteTime": {
     "end_time": "2023-08-03T14:08:14.874136Z",
     "start_time": "2023-08-03T14:08:14.871758Z"
    }
   },
   "outputs": [],
   "source": [
    "# Set the attenuation curve\n",
    "use_red_law = 'CCM'"
   ]
  },
  {
   "cell_type": "markdown",
   "id": "4ec34ff4",
   "metadata": {},
   "source": [
    "**Creating and initializing the emcee walker ensemble**\n",
    "\n",
    "emcee, the statistical backbone of SESAMME, uses an ensemble of \"walkers\" to explore the parameter space and determine what values provide likely fits to your data. You must specify the number of walkers prior to running SESAMME, as well as the number of steps in the chain. In general, more walkers iterating for fewer steps gives better constraints on the properties of a star cluster than few walkers iterating for many steps. The default number of walkers is 128. \n",
    "\n",
    "You must also initialize the walkers in parameter space. Here, we do so using normal distributions centered on arbitrary values of log(age), log(Z), E(B-V), and amplitude log(A), each with a relatively narrow dispersion. The default values are reasonable approximations for a young, massive, and sub-solar metallicity star cluster."
   ]
  },
  {
   "cell_type": "code",
   "execution_count": null,
   "id": "a93d0fbc",
   "metadata": {
    "ExecuteTime": {
     "end_time": "2023-08-03T14:08:16.100702Z",
     "start_time": "2023-08-03T14:08:16.097039Z"
    }
   },
   "outputs": [],
   "source": [
    "# Set the number and dimensionality of the emcee walker ensemble\n",
    "# ndim MUST be set to 4\n",
    "nwalkers, ndim = 128, 4\n",
    "nsteps = 10000\n",
    "\n",
    "\n",
    "# Set the initial positions of the walker ensemble\n",
    "initial_pos = [7., -2.0, 0.2, -2.0] + ([0.1, 0.1, 0.1, 0.1] * np.random.randn(nwalkers, ndim))"
   ]
  },
  {
   "cell_type": "markdown",
   "id": "c672fdd5",
   "metadata": {},
   "source": [
    "**Establish the parameter space and constrict the priors**\n",
    "\n",
    "In order to generate models during the MCMC process, SESAMME needs to know what its options are for values of metallicity and age. These need to be explicitly set by the user (as a dictionary) according to the SSP model set being used. We show an example of the required formatting below, using the BPASS metallicity and age ranges.\n",
    "\n",
    "Given these intervals, the parameter space explore by the MCMC walker ensemble in a given run can be further restricted through setting priors. By default, priors for all four variables have relatively broad ranges, but can be further restricted according to expectations about the age of the star cluster to be modeled, its metallicity, etc.\n",
    "\n",
    "Priors on the age, metallicity, and rescaling parameter A should be given in log-units, while E(B-V) is linear. E.g., if you're confident that your cluster is between 1 and 10 Myr old, you should respectively set 'age_low' and 'age_hi' to 6.0 and 7.0 in the dictionary defined below."
   ]
  },
  {
   "cell_type": "code",
   "execution_count": null,
   "id": "e0d59ff3",
   "metadata": {
    "ExecuteTime": {
     "end_time": "2023-08-03T14:08:19.341408Z",
     "start_time": "2023-08-03T14:08:19.336243Z"
    }
   },
   "outputs": [],
   "source": [
    "# Dictionary defining both the labels and values of the predefined BPASS model range in metallicity Z\n",
    "metal_dict = {'Z001' : 0.001,\n",
    "              'Z002' : 0.002,\n",
    "              'Z003' : 0.003,\n",
    "              'Z004' : 0.004,\n",
    "              'Z006' : 0.006,\n",
    "              'Z008' : 0.008,\n",
    "              'Z010' : 0.010,\n",
    "              'Z014' : 0.014,\n",
    "              'Z020' : 0.020,\n",
    "              'Z030' : 0.030,\n",
    "              'Z040' : 0.040,\n",
    "              'Zem4' : 1e-4,\n",
    "              'Zem5' : 1e-5\n",
    "}\n",
    "\n",
    "# Dictionary defining both the labels and values of the predefined BPASS model range in age\n",
    "age_dict = {}\n",
    "for n in range(2, 53):\n",
    "    # For BPASS, this yields ages in steps of 0.1 dex beginning at log(age) = 6.0 and ending at log(age) = 11.0\n",
    "    t = round(np.log10(10**(6+0.1*(n-2))), 1)\n",
    "    age_dict[str(t)] = t"
   ]
  },
  {
   "cell_type": "code",
   "execution_count": null,
   "id": "7aea8d8c",
   "metadata": {
    "ExecuteTime": {
     "end_time": "2023-08-07T14:37:31.041163Z",
     "start_time": "2023-08-07T14:37:31.038150Z"
    }
   },
   "outputs": [],
   "source": [
    "# The upper and lower bounds for priors on each variable\n",
    "prior_ranges = {\n",
    "    'age': [6.0, 7.0],\n",
    "    'met': [-3.0, -1.5],\n",
    "    'ebv': [0.01, 1.0],\n",
    "    'amp': [-20.0, 1.0]\n",
    "}"
   ]
  },
  {
   "cell_type": "code",
   "execution_count": null,
   "id": "ed47f61b",
   "metadata": {
    "ExecuteTime": {
     "end_time": "2023-08-03T14:08:22.159674Z",
     "start_time": "2023-08-03T14:08:22.153667Z"
    }
   },
   "outputs": [],
   "source": [
    "def check_prior_ranges(priors):\n",
    "    \n",
    "    # Ensure that the first value in the prior-boundary pair is lower than the second\n",
    "    for key, value in priors.items():\n",
    "        if value[0] > value[1]:\n",
    "            raise ValueError(\"Prior boundaries are out of order for variable \"+\"\\'\"+key+\"\\'\")\n",
    "            \n",
    "    # Check that the priors make physical sense\n",
    "    for key in ['age', 'met', 'ebv']:\n",
    "        if (key == 'age') & ((priors[key][0] < 5.) | (priors[key][1] < 5.) | (priors[key][0] > 11.) | (priors[key][1] > 11.)):\n",
    "            warnings.warn(\"\\n\\n Your age prior may extend to unphysically young and/or old values. Double check before proceeding with SESAMME.\")\n",
    "        if (key == 'met') & ((priors[key][0] < -5) | (priors[key][1] < -5) | (priors[key][0] > -1.3) | (priors[key][1] > -1.3)):\n",
    "            warnings.warn(\"\\n\\n Your metallicity prior may extend to unphysical values. Double check before proceeding with SESAMME.\")\n",
    "        if (key == 'ebv') & ((priors[key][0] < 0) | (priors[key][1] < 0) | (priors[key][0] > 100) | (priors[key][1] > 100)):\n",
    "            warnings.warn(\"\\n\\n Your E(B-V) prior may extend to unphysical values. Double check before proceeding with SESAMME.\")"
   ]
  },
  {
   "cell_type": "markdown",
   "id": "9d141812",
   "metadata": {},
   "source": [
    "The functions below (up until the start of 4. [Starting a SESAMME run](#Run)) are either key inputs to `emcee` for the MCMC process, or are there to parse the input model cube in a way that is compatible with other user inputs (e.g., the reddening and inclusion of nebular continuum). In general these should not be edited in any way."
   ]
  },
  {
   "cell_type": "code",
   "execution_count": null,
   "id": "87d8f8e7",
   "metadata": {
    "ExecuteTime": {
     "end_time": "2023-08-07T14:37:08.704911Z",
     "start_time": "2023-08-07T14:37:08.684056Z"
    }
   },
   "outputs": [],
   "source": [
    "def log_prior(theta):\n",
    "    \"\"\"\n",
    "    Calculate a flat prior probability within the bounds prescriped below.\n",
    "    \n",
    "    Inputs:\n",
    "    - A 4-tuple or 4-element list/array theta containing, in order, a log(age) logt, \n",
    "    a log(metallicity) logZ, an E(B-V) value ebv, and an amplitude ampl.\n",
    "    Change the limits of each parameter to fit your use case.\n",
    "    \n",
    "    Output:\n",
    "    - 0 if parameters are within allowed ranges, or -inf otherwise\n",
    "    \"\"\"\n",
    "    \n",
    "    # Ensure the priors make sense...\n",
    "#     global prior_ranges\n",
    "    check_prior_ranges(prior_ranges)\n",
    "    \n",
    "    # ...Then use them to set the flat prior probability\n",
    "    \n",
    "    logt, logZ, ebv, ampl = theta\n",
    "    \n",
    "    if prior_ranges['age'][0] <= logt <= prior_ranges['age'][1] and \\\n",
    "    prior_ranges['met'][0] <= logZ <= prior_ranges['met'][1] and \\\n",
    "    prior_ranges['ebv'][0] < ebv < prior_ranges['ebv'][1] and \\\n",
    "    prior_ranges['amp'][0] < ampl < prior_ranges['amp'][1] :\n",
    "        return 0.0\n",
    "    else:\n",
    "        return -np.inf\n",
    "\n",
    "def log_likelihood(y, yerr, y_model, mask):\n",
    "    \"\"\"\n",
    "    Evaluate the likelihood function by comparing the data and chosen model at every wavelength bin. \n",
    "    First calls the function velocity_shift, \n",
    "    \n",
    "    Inputs:\n",
    "    - Flux array y, flux uncertainty array yerr\n",
    "    - Model spectrum y_model, obtained with get_model()\n",
    "    - The BPASS SED wavelength grid rest_x, where dlambda = 1 Angstrom\n",
    "    - List of spectral windows to model windowlist, which is passed into function get_wavelength_bins()\n",
    "    \n",
    "    Output:\n",
    "    - (-1 * log(likelihood)), where log(i) means base-10 logarithm\n",
    "    \"\"\"  \n",
    "    \n",
    "    masked_spec = np.array( (y[mask] - y_model[mask]) / yerr[mask] )\n",
    "    masked_err = np.array( np.sqrt(2) * np.sqrt(np.pi) * yerr[mask])\n",
    "    \n",
    "    resid = -0.5 * (np.dot(masked_spec, masked_spec) + np.log(np.dot(masked_err, masked_err)))\n",
    "\n",
    "    return resid\n",
    "\n",
    "\n",
    "def log_posterior(theta, x, y, yerr, modelcube, iontable, mask, add_nebular):\n",
    "    \"\"\"\n",
    "    Calculates the (log of the) posterior probability as log(Ppos) = log(Pprior) + log(likelihood).\n",
    "    \n",
    "    Inputs:\n",
    "    - A 4-tuple or 4-element list/array theta containing, in order, a log(age) logt, \n",
    "    a log(metallicity) logZ, an E(B-V) value ebv, and an amplitude ampl. \n",
    "    Change the limits of each parameter in the log_prior() function to fit your use case.\n",
    "    - Wavelength array x, flux array y, flux uncertainty array yerr\n",
    "    - Mask array. Can be generated using the get_mask function or with user-made code.\n",
    "    \n",
    "    Output:\n",
    "    - log(posterior probability), where log(i) means base-10 logarithm\n",
    "    \"\"\"\n",
    "    y_model = get_model(theta, x, modelcube, iontable, add_nebular)\n",
    "    \n",
    "    lp = log_prior(theta)\n",
    "    if not np.isfinite(lp):\n",
    "        return -np.inf\n",
    "    \n",
    "    ll = log_likelihood(y, yerr, y_model, mask)\n",
    "    \n",
    "    return lp + ll"
   ]
  },
  {
   "cell_type": "code",
   "execution_count": null,
   "id": "4dde7796",
   "metadata": {
    "ExecuteTime": {
     "end_time": "2023-08-03T14:08:28.885605Z",
     "start_time": "2023-08-03T14:08:28.881476Z"
    }
   },
   "outputs": [],
   "source": [
    "### Round to the nearest log(age) and log(metallicity) that is precomputed in the input SED suite\n",
    "def nearest_age(logt):\n",
    "    best_t_key, best_t = min(age_dict.items(), key=lambda x: abs(logt - x[1]))\n",
    "    return best_t_key, best_t\n",
    "\n",
    "def nearest_metallicity(logZ):\n",
    "    Z = 10**logZ\n",
    "    best_Z_key, best_Z = min(metal_dict.items(), key=lambda x: abs(Z - x[1]))\n",
    "    return best_Z_key, best_Z"
   ]
  },
  {
   "cell_type": "code",
   "execution_count": null,
   "id": "df6e4a08",
   "metadata": {
    "ExecuteTime": {
     "end_time": "2023-08-03T14:08:29.299418Z",
     "start_time": "2023-08-03T14:08:29.293919Z"
    }
   },
   "outputs": [],
   "source": [
    "def get_mask(windowlist, x):\n",
    "    \"\"\"\n",
    "    Define one or more subsets of wavelength space to ignore when performing the data-model comparison\n",
    "    (e.g., sky or geocoronal lines, ISM features).\n",
    "    Inputs:\n",
    "    - An Nx2 array windowlist, where each row specifies a wavelength window where weight = 0, and \n",
    "    the first and second columns respectively give the approximate lower and upper bounds of the\n",
    "    window. The actual bounds will be chosen from the nearest values in the actual wavelength array.\n",
    "    - Wavelength array x, defined by the spectrum being tested.\n",
    "    \n",
    "    Output:\n",
    "    - An array of weights (1 = use in fit, 0 = do not use in fit) to be applied when evaluating log(likelihood).\n",
    "    \"\"\"\n",
    "\n",
    "    mask_array = np.ones(len(x))\n",
    "    \n",
    "    windowmin, windowmax = np.zeros(len(windowlist)), np.zeros(len(windowlist))\n",
    "    \n",
    "    for k in range(len(windowlist)):\n",
    "        idxmin = (np.abs(x - windowlist[k][0])).argmin()\n",
    "        idxmax = (np.abs(x - windowlist[k][1])).argmin()\n",
    "        windowmin[k] += x[idxmin]\n",
    "        windowmax[k] += x[idxmax]\n",
    "        \n",
    "        mask_array[np.where( (x >= windowmin[k]) & (x <= windowmax[k]) )] = 0\n",
    "    \n",
    "    return np.array(mask_array, dtype='bool')"
   ]
  },
  {
   "cell_type": "code",
   "execution_count": null,
   "id": "aa7fa3a1",
   "metadata": {
    "ExecuteTime": {
     "end_time": "2023-08-06T16:44:03.568704Z",
     "start_time": "2023-08-06T16:44:03.560795Z"
    }
   },
   "outputs": [],
   "source": [
    "def apply_red_law(x, ebv, y_model):\n",
    "    \"\"\"\n",
    "    Redden a model spectrum for comparison with the data. \n",
    "    Inputs:\n",
    "    - Wavelength array x\n",
    "    - Degree of reddening ebv, which is translated to A_v under the hood\n",
    "    - The model spectrum flux array y_model\n",
    "    \n",
    "    Output:\n",
    "    - An extinguished model spectrum red_model\n",
    "    \"\"\"\n",
    "    \n",
    "    \n",
    "    \n",
    "    global use_red_law\n",
    "    print(\"De-reddening spectrum assuming\", use_red_law, \"attenuation curve\")\n",
    "    \n",
    "    \n",
    "    if use_red_law not in ['CCM', 'Fitzpatrick99', 'ODonnell', 'FitzMassa07', 'Gordon23',\n",
    "                           'Calzetti', 'SMC', 'LMC']:\n",
    "        raise ValueError(\"'\"+use_red_law+\"'\" +\" is not a valid value for the parameter 'use_red_law'.\\n \\\n",
    "Accepted values are 'CCM', 'Fitzpatrick99', 'ODonnell', 'FitzMassa07', 'Gordon23', Calzetti', 'LMC', and 'SMC'.\")\n",
    "        \n",
    "    elif use_red_law == \"CCM\":\n",
    "        red_model = extinction.apply(extinction.ccm89(x, ebv*3.1, 3.1), y_model)\n",
    "        \n",
    "    elif use_red_law == \"Fitzpatrick99\":\n",
    "        red_model = extinction.apply(extinction.fitzpatrick99(x, ebv*3.1, 3.1), y_model)\n",
    "        \n",
    "    elif use_red_law == \"ODonnell\":\n",
    "        red_model = extinction.apply(extinction.odonnell94(x, ebv*3.1, 3.1), y_model)\n",
    "        \n",
    "    elif use_red_law == \"FitzMassa07\":\n",
    "        red_model = extinction.apply(extinction.fm07(x, ebv*3.1), y_model)\n",
    "        \n",
    "    elif use_red_law == \"Calzetti\":\n",
    "        red_model = extinction.apply(extinction.calzetti00(x, ebv*4.05, 4.05), y_model)\n",
    "    \n",
    "    elif use_red_law == 'Gordon23':\n",
    "        ext_curve = G23(Rv = 3.1)\n",
    "        red_model = y_model * ext_curve.extinguish(x * u.AA, ebv * ext_curve.Rv)\n",
    "        \n",
    "    elif use_red_law == 'LMC':\n",
    "        ext_curve = G03_LMCAvg()\n",
    "        red_model = y_model * ext_curve.extinguish(x * u.AA, ebv * ext_curve.Rv)\n",
    "    \n",
    "    elif use_red_law == 'SMC':\n",
    "        ext_curve = G03_SMCBar()\n",
    "        red_model = y_model * ext_curve.extinguish(x * u.AA, ebv * ext_curve.Rv)\n",
    "        \n",
    "    return red_model"
   ]
  },
  {
   "cell_type": "code",
   "execution_count": null,
   "id": "ed732c03",
   "metadata": {
    "ExecuteTime": {
     "end_time": "2023-08-03T14:08:47.857076Z",
     "start_time": "2023-08-03T14:08:47.851767Z"
    }
   },
   "outputs": [],
   "source": [
    "def get_model(theta, x, modelcube, iontable, add_nebular = True):\n",
    "    \"\"\"\n",
    "    Construct a model star cluster spectrum with values of metallicity, age, extinction, and normalization\n",
    "    randomly chosen (within bounds). Choose the model nearest to the age and metallicity \n",
    "    parameters Z and t, rescale by ampl, then redden by the extinction parameter ebv.\n",
    "    Default is to use the Cardelli, Clayton, & Mathis (1989) Milky Way reddening law, set with the variable\n",
    "    \"use_red_law\". See line X for more information.\n",
    "    \n",
    "    Inputs:\n",
    "    - A 4-tuple or 4-element list/array theta containing, in order, a log(age) logt, \n",
    "    a log(metallicity) logZ, an E(B-V) value ebv, and an amplitude ampl.\n",
    "\n",
    "    >> Implicitly takes 2 other files/arrays as input: modelcube (defining the grid of BPASS model spectra)\n",
    "    >> and iontable (to generate a nebular continuum component)\n",
    "    \n",
    "    Output:\n",
    "    - A reddened BPASS spectrum that is nearest to the proposed values of t, Z, ebv, and ampl.\n",
    "    \"\"\"\n",
    "    \n",
    "    logt, logZ, ebv, ampl = theta\n",
    "    \n",
    "    met_key, met = nearest_metallicity(logZ)\n",
    "    age_key, age = nearest_age(logt)\n",
    "    \n",
    "    nearest_stellar_model = (10**ampl) * modelcube[met_key].data[age_key]\n",
    "    specwl = modelcube[met_key].data['WL'].byteswap().newbyteorder()\n",
    "    \n",
    "    if add_nebular == True:\n",
    "        nebcont = nebular_continuum(theta, iontable)\n",
    "        nearest_model = nearest_stellar_model + nebcont\n",
    "    else:\n",
    "        nearest_model = nearest_stellar_model\n",
    "    \n",
    "    red_nearest_model = apply_red_law(x, ebv, nearest_model)        \n",
    "    \n",
    "    return red_nearest_model"
   ]
  },
  {
   "cell_type": "code",
   "execution_count": null,
   "id": "21b67bdd",
   "metadata": {
    "ExecuteTime": {
     "end_time": "2023-08-06T17:03:50.028467Z",
     "start_time": "2023-08-06T17:03:50.020954Z"
    }
   },
   "outputs": [],
   "source": [
    "\"\"\"\n",
    "Python equivalent of the Starburst99 function CONTINUUM, for computing the approximate nebular continuum.\n",
    "Variable 'gamma' contains emission coeffs for HI (including free-free, bound-free, and 2-photon emission)\n",
    "and HeI (assuming He/H = 0.1). Values from Aller (1984) and Ferland (1980). All computations assume \n",
    "typical Case B conditions (T = 1e4 K,  f_esc = 0).\n",
    "\n",
    "Inputs:\n",
    "- A 4-tuple or 4-element list/array theta containing, in order, a log(age) logt, \n",
    "a log(metallicity) logZ, an E(B-V) value ebv, and an amplitude ampl.\n",
    "- A table of ionizing photon production rates iontable\n",
    "\n",
    "Output:\n",
    "- A rough nebular continuum spectrum (in Solar luminosities per A), bounded in wavelength\n",
    "by the wavelength coverage of the model cube\n",
    "\n",
    "\"\"\"\n",
    "\n",
    "gamma = np.array([0.,2.11e-4,5.647,9.35,9.847,10.582,16.101,24.681,26.736,\n",
    "              24.883,29.979,6.519,8.773,11.545,13.585,6.333,10.444,7.023,\n",
    "              9.361,7.59,9.35,8.32,9.53,8.87])*1e-40  # Units are 10**-40 ERG CM3 SEC**-1 HZ**-1\n",
    "nebx = np.array([912.,913.,1300.,1500.,1800.,2200.,2855.,3331.,3421.,3422.,\n",
    "             3642.,3648.,5700.,7000.,8207.,8209.,14583.,14585.,22787.,22789.,\n",
    "             32813.,32815.,44680.,44682.])\n",
    "alpha_B = 2.6e-13    \n",
    "Qbase = 52\n",
    "\n",
    "sparse_nebcont = (2.998e18 * gamma * 10**(Qbase)) / (alpha_B * nebx**2)\n",
    "\n",
    "\n",
    "def nebular_continuum(x, theta, iontable):\n",
    "    logt, logZ, _, ampl = theta\n",
    "    met_key, met = nearest_metallicity(logZ)\n",
    "    age_key, age = nearest_age(logt)\n",
    "    \n",
    "    # Interpolate the sparsely-sampled continuum to the wavelength grid of the model\n",
    "    interp_function = interpolate.interp1d(nebx, sparse_nebcont, fill_value='extrapolate', )\n",
    "    interp_nebcont = interp_function(x) / 3.83e33\n",
    "    \n",
    "    # Rescale the continuum by the emissivity of the nearest model and by the specified amplitude parameter\n",
    "    Q_new = iontable[iontable['Z'] == met_key][age_key] \n",
    "    interp_nebcont = interp_nebcont * (10**(Q_new - Qbase + ampl))  \n",
    "    \n",
    "    return interp_nebcont"
   ]
  },
  {
   "cell_type": "markdown",
   "id": "a316ba6b",
   "metadata": {},
   "source": [
    "## 4) Starting a SESAMME run"
   ]
  },
  {
   "cell_type": "markdown",
   "id": "74e90597",
   "metadata": {},
   "source": [
    "Load in 1) the model cube containing the SSP suite and 2) the table of ionizing production rates you want to use in your modeling. See the supplementary script **cube_maker.py** for information about how these files are created. "
   ]
  },
  {
   "cell_type": "code",
   "execution_count": null,
   "id": "bb29ae78",
   "metadata": {
    "ExecuteTime": {
     "end_time": "2023-08-03T14:15:06.998284Z",
     "start_time": "2023-08-03T14:15:06.982215Z"
    },
    "scrolled": true
   },
   "outputs": [],
   "source": [
    "# modelcube = fits.open(\"/path/to/file/SSP_Model_Cube.fits\")\n",
    "modelcube = fits.open(\"./synthetic_spectra/v23/afe_00/afe00_Metallicity_Table.fits\")\n",
    "\n",
    "# iontable = Table.read(\"/path/to/file/Model_Q_table.txt\", format='ascii', header_start=0)\n",
    "iontable = Table.read(\"./synthetic_spectra/v23/afe_00/afe00_Q_Table.txt\", format='ascii', header_start=0)"
   ]
  },
  {
   "cell_type": "markdown",
   "id": "7b122f49",
   "metadata": {},
   "source": [
    "Load in the spectrum of your star cluster. SESAMME assumes the spectrum has already been pre-processed (i.e., smoothed and rebinned, if necessary) and shifted to the rest frame. \n",
    "\n",
    "The example spectrum file contains HST/COS observations (with the G130M and G160M gratings) of a star cluster in M83 (see Hernandez et al. 2019 for details). The spectrum has been corrected for the HI absorption profile around Lyman alpha; de-reddened according to the Galactic extinction maps of Schlafly & Finkbeiner 2011; shifted to the rest frame; and smoothed and regridded to the resolution of a BPASS model suite (1 A per pix). "
   ]
  },
  {
   "cell_type": "code",
   "execution_count": null,
   "id": "b6e90b3f",
   "metadata": {
    "ExecuteTime": {
     "end_time": "2023-08-03T14:14:44.083936Z",
     "start_time": "2023-08-03T14:14:44.065322Z"
    }
   },
   "outputs": [],
   "source": [
    "# Natively comes in flux density units (erg s-1 cm-2 A-1)...\n",
    "specfile = Table.read(\"./spectra/M83/cluster8/M83-8_fhrsg.txt\", format='ascii')\n",
    "wl = specfile['WL']\n",
    "flux = specfile['FLUX']\n",
    "flux_err = specfile['ERROR']\n",
    "\n",
    "# But rescaling to luminosity density units (L_Sun A-1) allows SESAMME to infer a stellar mass for the cluster\n",
    "lum = flux * 4*np.pi * (4.8*u.Mpc.to(u.cm))**2 / 3.83e33\n",
    "lum_err = flux_err * 4*np.pi * (4.8*u.Mpc.to(u.cm))**2 / 3.83e33\n",
    "\n",
    "windowlist = np.array([[np.min(wl), 1133], [1172, 1176.5],  [1188, 1202], [1203.8, 1222], \n",
    "                       [1257, 1262], [1299, 1305], [1331, 1336.2], [1276, 1286], [1454, 1456], [1465, 1469], \n",
    "                       [1390.5, 1393.5], [1399.5, 1403.3],\n",
    "                       [1523.5, 1529], [1543, 1550.], [1608.5, 1621], [1656, 1659], [1666, 1674], [1795, np.max(wl)] ])\n",
    "\n",
    "mask = get_mask(windowlist, wl)"
   ]
  },
  {
   "cell_type": "markdown",
   "id": "7e5d90c7",
   "metadata": {},
   "source": [
    "Set up the H5 backend, which stores the results of the MCMC process. If you want to save a second SESAMME run to the same H5 file, add a parameter *name* as illustrated below."
   ]
  },
  {
   "cell_type": "code",
   "execution_count": null,
   "id": "336051b4",
   "metadata": {
    "ExecuteTime": {
     "end_time": "2023-08-03T14:16:49.971303Z",
     "start_time": "2023-08-03T14:16:34.624412Z"
    },
    "scrolled": true
   },
   "outputs": [],
   "source": [
    "filename = \"M83_publictest.h5\"\n",
    "backend = emcee.backends.HDFBackend(filename, name = \"Default\")\n",
    "backend.reset(nwalkers, ndim)\n",
    "\n",
    "\n",
    "sampler = emcee.EnsembleSampler(\n",
    "    nwalkers, ndim, log_posterior, backend = backend, args=(wl, lum, lum_err, \n",
    "                                          modelcube, iontable, mask, True)\n",
    ")\n",
    "sampler.run_mcmc(initial_pos, nsteps, progress=True);"
   ]
  },
  {
   "cell_type": "code",
   "execution_count": null,
   "id": "926e32a7",
   "metadata": {},
   "outputs": [],
   "source": []
  },
  {
   "cell_type": "markdown",
   "id": "461a365b",
   "metadata": {},
   "source": [
    "## 5) Post-run analyses"
   ]
  },
  {
   "cell_type": "markdown",
   "id": "2956c44d",
   "metadata": {},
   "source": [
    "To retrieve the results of an MCMC run, load in the relevant .H5 file. Don't forget to use the *name* parameter to specify which run to use, if multiple exist within a single .H5 file."
   ]
  },
  {
   "cell_type": "code",
   "execution_count": null,
   "id": "da4699a8",
   "metadata": {
    "ExecuteTime": {
     "end_time": "2023-08-03T14:16:49.982784Z",
     "start_time": "2023-08-03T14:16:49.976190Z"
    }
   },
   "outputs": [],
   "source": [
    "reader = emcee.backends.HDFBackend(filename, name = 'Default')\n",
    "samples = reader.get_chain()"
   ]
  },
  {
   "cell_type": "markdown",
   "id": "1516902b",
   "metadata": {},
   "source": [
    "Create a time-series plot that shows the parameter values for each walker at each step in the chain. This will also allow you to determine visually how many \"burn-in steps\" should be excluded from the final analysis (see below)."
   ]
  },
  {
   "cell_type": "code",
   "execution_count": null,
   "id": "f1983327",
   "metadata": {
    "ExecuteTime": {
     "end_time": "2023-08-03T14:16:52.534114Z",
     "start_time": "2023-08-03T14:16:52.226815Z"
    }
   },
   "outputs": [],
   "source": [
    "fig, axes = plt.subplots(4, figsize=(9, 7), sharex=True)\n",
    "\n",
    "labels = [\"log(age/yr)\", r\"log(Z/Z$_{\\odot}$)\", \"E(B-V)\", \"log(A)\"]\n",
    "\n",
    "for i in range(ndim):\n",
    "    ax = axes[i]\n",
    "    ax.plot(samples[:, :, i], \"k\", alpha=0.3)\n",
    "    ax.set_xlim(0, len(samples))\n",
    "    \n",
    "    ax.set_ylabel(labels[i])\n",
    "    ax.yaxis.set_label_coords(-0.1, 0.5)\n",
    "\n",
    "axes[-1].set_xlabel(\"step number\");"
   ]
  },
  {
   "cell_type": "markdown",
   "id": "f47f13b9",
   "metadata": {},
   "source": [
    "See what values are inferred for the autocorrelation time for each of the four parameters. This will determine the amount by which you should 'thin' the chain (see below). An `AutocorrError` may occur if the MCMC chain does not strictly converge, but in practice this usually can be ignored."
   ]
  },
  {
   "cell_type": "code",
   "execution_count": null,
   "id": "7bfab6da",
   "metadata": {
    "ExecuteTime": {
     "end_time": "2023-08-03T14:23:25.731118Z",
     "start_time": "2023-08-03T14:23:25.668723Z"
    },
    "scrolled": true
   },
   "outputs": [],
   "source": [
    "tau = reader.get_autocorr_time()\n",
    "print(tau)"
   ]
  },
  {
   "cell_type": "markdown",
   "id": "f9a17034",
   "metadata": {},
   "source": [
    "Collapse the array of samples into a 4 x `nsteps` array. This is also where you:\n",
    "- Discard the burn-in steps, or early iterations in the chain where the walker ensemble begins to explore the parameter space\n",
    "- Thin the chain. Because the MCMC process retains some memory of previous iterations, you should only consider every *i*-th sample if you want a truly independent sampling of the posterior PDF. "
   ]
  },
  {
   "cell_type": "code",
   "execution_count": null,
   "id": "0afdf395",
   "metadata": {
    "ExecuteTime": {
     "end_time": "2023-08-03T14:23:40.680689Z",
     "start_time": "2023-08-03T14:23:40.670568Z"
    }
   },
   "outputs": [],
   "source": [
    "# Edit the distcard and thin parameters according to the results of your run\n",
    "flat_samples = reader.get_chain(discard=100, thin=100, flat=True) \n",
    "print(flat_samples.shape)"
   ]
  },
  {
   "cell_type": "markdown",
   "id": "fbbe698d",
   "metadata": {},
   "source": [
    "Inspect the 1-D distributions of the four parameters and their covariances. Values in `range` can be tweaked to better show the breadth of values in the posterior PDF.\n",
    "\n",
    "You can also print the median and $\\pm$1$\\sigma$ values for each of the four parameters."
   ]
  },
  {
   "cell_type": "code",
   "execution_count": null,
   "id": "2739a2eb",
   "metadata": {
    "ExecuteTime": {
     "end_time": "2023-08-03T14:23:41.670068Z",
     "start_time": "2023-08-03T14:23:41.171690Z"
    }
   },
   "outputs": [],
   "source": [
    "fig = corner.corner(\n",
    "    flat_samples, labels=labels, truths=[np.log10(10e6), np.log10(0.0127), None, None], quantiles = [.16, .50, .84],\n",
    "    range=[(6.0,7.5), (-2.2, -1.5), (0.0,0.33), (-3, 0), ],title_kwargs={\"fontsize\": 14, 'weight':'semibold'}\n",
    ");"
   ]
  },
  {
   "cell_type": "code",
   "execution_count": null,
   "id": "4105de44",
   "metadata": {
    "ExecuteTime": {
     "end_time": "2023-08-03T14:24:27.057422Z",
     "start_time": "2023-08-03T14:24:27.046748Z"
    }
   },
   "outputs": [],
   "source": [
    "for i in range(ndim):\n",
    "    mcmc = np.percentile(flat_samples[:, i], [16, 50, 84])\n",
    "    q = np.diff(mcmc)\n",
    "    txt = \"\\mathrm{{{3}}} = {0:.3f}_{{-{1:.3f}}}^{{{2:.3f}}}\"\n",
    "    txt = txt.format(mcmc[1], q[0], q[1], labels[i])\n",
    "    display(Math(txt))"
   ]
  },
  {
   "cell_type": "markdown",
   "id": "731518fc",
   "metadata": {},
   "source": [
    "This is an example of how to visualize the quality of fit inferred by SESAMME. Here, in the upper panel, I plot the input spectrum in black, 50 random draws from the posterior PDF in green, and the \"median model\" in blue (that is, the model for which each of the 4 parameters is set to the median of its 1-D distribution shown above). I also mark masked regions with grey patches.\n",
    "\n",
    "In the lower panel, I plot the normalized residuals of those 50 random draws from the data. This shows that the MCMC process converges on a family of solutions that are good descriptions of the observed spectrum to within $\\pm$ 1\\% over the whole wavelength range."
   ]
  },
  {
   "cell_type": "code",
   "execution_count": null,
   "id": "f4939984",
   "metadata": {
    "ExecuteTime": {
     "end_time": "2023-08-03T16:10:37.291310Z",
     "start_time": "2023-08-03T16:10:36.957314Z"
    }
   },
   "outputs": [],
   "source": [
    "fig, ax = plt.subplots(2, 1, sharex=True, figsize=(10,6), gridspec_kw={'height_ratios': [3, 1]})\n",
    "\n",
    "\n",
    "ax[0].plot(wl, lum, color='black', lw = 1, label = \"Data\", zorder=1)\n",
    "\n",
    "for k in range(len(windowlist)):\n",
    "    maskout = np.where((wl >= windowlist[k][0]) & (wl <= windowlist[k][1]))\n",
    "    ax[0].fill_between(wl[maskout], 0, 1e6, alpha = 0.5, color='lightgrey', lw=0)\n",
    "    ax[1].fill_between(wl[maskout], -10, 10, alpha = 0.5, color='lightgrey', lw=0)\n",
    "\n",
    "## The 1DMax model\n",
    "ex_star_model = (10**-1.768) * modelcube['Z010'].data['6.6']\n",
    "ex_nebcont = nebular_continuum([6.5, np.log10(0.010), 0.138, -1.768], iontable)\n",
    "ex_tot_model = ex_star_model + ex_nebcont\n",
    "ex_tot_model = apply_red_law(x = wl, ebv = 0.109, model = ex_tot_model)\n",
    "\n",
    "ax[0].plot(wl, ex_tot_model, color = 'royalblue', lw=1.5, label = 'Median BPASS Model', zorder=500) #'#dad786'\n",
    "\n",
    "print(\"The log-probability of the 1DMax model is\",\n",
    "      log_posterior([6.5, np.log10(0.010), 0.109, -1.768], wl, lum, \n",
    "                    lum_err, model_cube, ion_table, mask, True))\n",
    "\n",
    "\n",
    "\n",
    "\n",
    "\n",
    "ax[0].set_xlim(1120, 1810)\n",
    "ax[1].set_xlabel(r\"Wavelength ($\\AA$)\")\n",
    "ax[0].set_ylim(0, 4.6e3)\n",
    "ax[0].set_ylabel(r\"L$_{\\odot}$ $\\AA^{-1}$\")\n",
    "#ax[0].set_yscale(\"log\")\n",
    "ax[0].set_title(\"YMC M83-8\", weight='semibold')\n",
    "\n",
    "\n",
    "#######\n",
    "\n",
    "ax[1].axhline(0, color='black')\n",
    "\n",
    "### Plot 50 random draws from the final flattened sample ensemble\n",
    "i = np.random.randint(0, len(flat_samples))\n",
    "t, z, ebv, amp = flat_samples[i]\n",
    "nearest_t, nearest_z = nearest_age(t)[0], nearest_metallicity(z)[0]\n",
    "\n",
    "ex_y_model = 10**(amp) * modelcube[nearest_z].data[nearest_t]\n",
    "ex_nebcont = nebular_continuum([t, z, ebv, amp], iontable)\n",
    "total_model = ex_y_model + ex_nebcont\n",
    "total_model = apply_red_law(x = wl, ebv = ebv, model = total_model)\n",
    "\n",
    "\n",
    "ax[0].plot(wl, total_model*10, alpha = 1, lw=1, color='teal', ls=\":\", label = \"Random Draw from PDF\", zorder=0)\n",
    "ax[0].plot(wl, total_model, alpha = 0.1, lw=1, color='teal', ls=\":\", zorder=0)\n",
    "ax[1].plot(wl[mask], (lum[mask] - total_model[mask])/lum[mask], alpha=  0.2, lw=1, color='royalblue', label = \"Random Draw from PDF\", zorder=0)\n",
    "\n",
    "np.random.seed(99)\n",
    "for i in np.random.randint(0, len(flat_samples), 49):\n",
    "    t, z, ebv, amp = flat_samples[i]\n",
    "    nearest_t, nearest_z = nearest_age(t)[0], nearest_metallicity(z)[0]\n",
    "\n",
    "    ex_y_model = 10**(amp) * modelcube[nearest_z].data[nearest_t]\n",
    "    ex_nebcont = nebular_continuum([t, z, ebv, amp], iontable)\n",
    "    total_model = ex_y_model + ex_nebcont\n",
    "    total_model = apply_red_law(x = wl, ebv = ebv, model = total_model)\n",
    "\n",
    "    ax[0].plot(wl, total_model, alpha=  0.1, lw=1, ls=':', color='teal', zorder=0)\n",
    "    ax[1].plot(wl[mask], (lum[mask] - total_model[mask])/lum[mask], ls=\":\", alpha=  0.05, lw=1, color='teal', zorder=0)\n",
    "\n",
    "\n",
    "    \n",
    "ax[0].legend(loc='best')\n",
    "ax[1].set_ylabel(\"Residuals\")\n",
    "ax[1].set_ylim(-0.7,0.7)\n",
    "\n",
    "plt.tight_layout()\n",
    "# plt.savefig(\"fitexample.pdf\", bbox_inches='tight', overwrite=True)\n",
    "plt.show()"
   ]
  }
 ],
 "metadata": {
  "kernelspec": {
   "display_name": "Python 3 (ipykernel)",
   "language": "python",
   "name": "python3"
  },
  "language_info": {
   "codemirror_mode": {
    "name": "ipython",
    "version": 3
   },
   "file_extension": ".py",
   "mimetype": "text/x-python",
   "name": "python",
   "nbconvert_exporter": "python",
   "pygments_lexer": "ipython3",
   "version": "3.7.16"
  }
 },
 "nbformat": 4,
 "nbformat_minor": 5
}
