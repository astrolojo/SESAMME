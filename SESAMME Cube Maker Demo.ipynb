{
 "cells": [
  {
   "cell_type": "markdown",
   "id": "7de7e0a9",
   "metadata": {},
   "source": [
    "# SESAMME Cube Maker Demo"
   ]
  },
  {
   "cell_type": "markdown",
   "id": "6b12f206",
   "metadata": {},
   "source": [
    "This notebook illustrates how to make a FITS data cube containing a suite of simple stellar population models (SSPs) from individual SSP files, which can be passed to SESAMME to perform full spectral fitting of star clusters. In this notebook, you can also optionally create an ascii table containing the number of hydrogen-ionizing photons per second Q(HI) emitted by each SSP in your model grid.\n",
    "\n",
    "\n",
    "\n",
    "\n",
    "By the end of this tutorial, you will have a working example of how to:\n",
    "1. Create an SSP model cube, trimmed in age, metallicity, or wavelength to fit your science needs; \n",
    "2. Create an array of Q(HI) values for your suite of spectra.\n",
    "\n",
    "For an example of how to use the model cube to characterize your star cluster, please see the accompanying notebook `SESAMME Demo`. For illustrations of other steps in the modeling process (for example, how we rebinned our high-resolution spectra to the 1 A resolution of BPASS, or one way to create mock noise-added spectra of extragalactic star clusters), please see the accompanying notebook `Resampling Demo`."
   ]
  },
  {
   "cell_type": "markdown",
   "id": "e05dd1ce",
   "metadata": {},
   "source": [
    "## Imports"
   ]
  },
  {
   "cell_type": "code",
   "execution_count": 19,
   "id": "784a0ede",
   "metadata": {
    "ExecuteTime": {
     "end_time": "2023-10-09T22:18:59.660992Z",
     "start_time": "2023-10-09T22:18:59.657493Z"
    }
   },
   "outputs": [],
   "source": [
    "### File handling tools\n",
    "import os, glob\n",
    "from astropy.io import fits\n",
    "\n",
    "### Manipulating arrays\n",
    "import numpy as np"
   ]
  },
  {
   "cell_type": "markdown",
   "id": "dc4dd7b0",
   "metadata": {},
   "source": [
    "## Making a model cube with BPASS v2.3"
   ]
  },
  {
   "cell_type": "markdown",
   "id": "d95b7b36",
   "metadata": {},
   "source": [
    "Individual files containing a model SSP (at some age and metallicity) are read in, cropped to a user-defined wavelength range, and then stacked to form a FITS cube. Each FITS extension in the final cube is a BinTable object for spectra with a given metallicity, and each column within the table is the SED of the stellar population at the specified age."
   ]
  },
  {
   "cell_type": "markdown",
   "id": "fb014c21",
   "metadata": {},
   "source": [
    "The cells below sets up most of the important information to be contained in the model cube. This includes:\n",
    "- The age and metallicity grid\n",
    "- The file names you want to collate into the cube, plus their parent directory\n",
    "- The desired wavelength bounds of your model cube, if the parent spectra have more wavelength coverage than is necessary\n",
    "\n",
    "In this example, we show how to manually specify which files from a given SSP suite to include in the cube. More elegant ways to create the array of file names using, e.g., `glob` will be documented later. \n",
    "\n",
    "For this example we use the BPASS v2.3 models with binary stars, the 135_300 IMF, and solar $\\alpha$-element abundances (see Byrne+ 2022 for details)."
   ]
  },
  {
   "cell_type": "code",
   "execution_count": 16,
   "id": "e2e3989c",
   "metadata": {
    "ExecuteTime": {
     "end_time": "2023-10-09T22:16:21.781852Z",
     "start_time": "2023-10-09T22:16:21.775591Z"
    }
   },
   "outputs": [],
   "source": [
    "# Define the age bins, which will double as column names\n",
    "ages = np.array([str( round(np.log10(10**(6+0.1*(n-2))), 1) ) for n in range(2,53)])\n",
    "\n",
    "# Define the metallicity bins, which will double as FITS extension names\n",
    "mets = ['Z001', 'Z002', 'Z003', 'Z004', 'Z006', 'Z008', 'Z010', 'Z014', 'Z020', 'Z030', 'Z040', 'Zem4', 'Zem5']\n",
    "met_values = [0.001, 0.002, 0.003, 0.004, 0.006, 0.008, 0.01, 0.014, 0.02, 0.03, 0.04, 1e-4, 1e-5]\n",
    "\n",
    "# Names for the individual spectrum files to be read in\n",
    "spec_filenames = ['spectra-bin-imf135_300.a+00.z001',  \n",
    "'spectra-bin-imf135_300.a+00.z002',  \n",
    "'spectra-bin-imf135_300.a+00.z003',  \n",
    "'spectra-bin-imf135_300.a+00.z004',  \n",
    "'spectra-bin-imf135_300.a+00.z006',  \n",
    "'spectra-bin-imf135_300.a+00.z008',  \n",
    "'spectra-bin-imf135_300.a+00.z010',\n",
    "'spectra-bin-imf135_300.a+00.z014',           \n",
    "'spectra-bin-imf135_300.a+00.z020',\n",
    "'spectra-bin-imf135_300.a+00.z030',\n",
    "'spectra-bin-imf135_300.a+00.z040',\n",
    "'spectra-bin-imf135_300.a+00.zem4',\n",
    "'spectra-bin-imf135_300.a+00.zem5']\n",
    "\n",
    "# Specify the desired min and max wavelength (in Angstroms) for the model cubes\n",
    "min_wl = 912\n",
    "max_wl = 3000\n",
    "\n",
    "# Set the column names for all extensions in the model cube\n",
    "spec_colnames = ['WL'] + [str(i) for i in ages]\n",
    "\n",
    "# Specify the input path for the stellar pop. model cube\n",
    "spec_in_path = \"/path/to/file/\"\n",
    "\n",
    "# Specify the output path for the stellar pop. model cube\n",
    "spec_out_path = \"/path/to/file/\""
   ]
  },
  {
   "cell_type": "markdown",
   "id": "fced0c61",
   "metadata": {},
   "source": [
    "Now we iterate over the individual files, trim them down to the desired wavelength range, and combine them into a multi-extension FITS file. **Because the file names and metallicity labels are zipped together, please ensure that your array of file names and array of Z values are given in the same order.**\n",
    "\n",
    "Some temporary files will be created in the process. The output will be a FITS file with 14 HDUs - an empty Primary and 13 BinTable extensions labelled by metallicity."
   ]
  },
  {
   "cell_type": "code",
   "execution_count": 17,
   "id": "2da7f3a6",
   "metadata": {
    "ExecuteTime": {
     "end_time": "2023-10-09T22:18:02.498740Z",
     "start_time": "2023-10-09T22:16:23.460446Z"
    }
   },
   "outputs": [],
   "source": [
    "# Create primary HDU and HDUList\n",
    "primary_hdu = fits.PrimaryHDU()\n",
    "stellar_list = fits.HDUList([primary_hdu])\n",
    "\n",
    "for file, metal in zip(spec_filenames, mets):\n",
    "    spec = Table.read(spec_in_path + file + \".dat\", format = 'ascii', names = spec_colnames)\n",
    "    \n",
    "    # Writes the wavelength-trimmed version of the SSP to a temporary file with the prefix \"short_\"\n",
    "    spec[min_wl - 1 : max_wl].write(spec_in_path + \"short_\" + file+\".fits\", overwrite=True, format='fits')\n",
    "    \n",
    "    # Read in the temporary file \"short_*\" and assign it to a new HDU, which is appended to the final cube object\n",
    "    fitsspec = fits.open(spec_in_path + \"short_\" + file + \".fits\")\n",
    "    fitsspec[1].header['EXTNAME'] = metal\n",
    "    stellar_list.append(fitsspec[1])\n",
    "    \n",
    "    # Remove the temporary file\n",
    "    os.remove(spec_in_path + \"short_\" + file+\".fits\")\n",
    "    \n",
    "# Write the complete cube to file\n",
    "stellar_list.writeto(spec_out_path + \"Demo_Met_Table.fits\", overwrite=True)"
   ]
  },
  {
   "cell_type": "markdown",
   "id": "5d982d62",
   "metadata": {
    "ExecuteTime": {
     "end_time": "2022-05-10T17:50:16.228374Z",
     "start_time": "2022-05-10T17:50:16.076391Z"
    }
   },
   "source": [
    "You now have a multi-extension FITS cube containing your SSP model suite which is compatible with SESAMME. Suppose now that you also want to include nebular continuum emission in your modeling, which is not included in the BPASS SSPs. The cells below allow you to create a grid of ionizing outputs per SSP, which SESAMME can use to generate and add a nebular continuum component to its modeling process.\n",
    "\n",
    "In the case of BPASS models, each file contains the Q(HI) values for an SSP of the named metallicity at each time step in the BPASS grid."
   ]
  },
  {
   "cell_type": "code",
   "execution_count": 20,
   "id": "a5496e28",
   "metadata": {
    "ExecuteTime": {
     "end_time": "2023-10-09T22:26:17.715099Z",
     "start_time": "2023-10-09T22:26:17.709737Z"
    }
   },
   "outputs": [],
   "source": [
    "# Names for the individual N_ion files to be read in\n",
    "nion_filenames = ['ionizing-bin-imf135_300.a+00.z001',\n",
    "                  'ionizing-bin-imf135_300.a+00.z002',\n",
    "                  'ionizing-bin-imf135_300.a+00.z003',\n",
    "                  'ionizing-bin-imf135_300.a+00.z004',\n",
    "                  'ionizing-bin-imf135_300.a+00.z006',\n",
    "                  'ionizing-bin-imf135_300.a+00.z008',\n",
    "                  'ionizing-bin-imf135_300.a+00.z010',\n",
    "                  'ionizing-bin-imf135_300.a+00.z014',\n",
    "                  'ionizing-bin-imf135_300.a+00.z020',\n",
    "                  'ionizing-bin-imf135_300.a+00.z030',\n",
    "                  'ionizing-bin-imf135_300.a+00.z040',\n",
    "                  'ionizing-bin-imf135_300.a+00.zem4',\n",
    "                  'ionizing-bin-imf135_300.a+00.zem5']\n",
    "\n",
    "# Specify the input path for the stellar pop. ionizing output\n",
    "nion_in_path = \"/Users/lojones/Documents/BPASS/bpass_v2.3.a+00/\"\n",
    "# nion_in_path = \"/path/to/file/\"\n",
    "\n",
    "# Specify the output path for the stellar pop. ionizing output\n",
    "nion_out_path = \"/Users/lojones/Documents/stellaz/Sphinx/\"\n",
    "# nion_out_path = \"/path/to/file/\"\n",
    "\n",
    "# Set the column names for the table of Q(HI) values, one row per metallicity\n",
    "nion_colnames = ['Z'] + [str(x) for x in ages]"
   ]
  },
  {
   "cell_type": "markdown",
   "id": "279d4c5e",
   "metadata": {},
   "source": [
    "Now we iterate over the individual ionizing-flux files and combine them into a simple ascii array. **Because the file names and metallicity labels are zipped together, please ensure that your array of file names and array of Z values are given in the same order.**\n",
    "\n",
    "The output will be a `*.txt` file containing a 2D array of the log(Q(HI)) values. Each row is a different metallicity, and each column is a different time step in the BPASS grid."
   ]
  },
  {
   "cell_type": "code",
   "execution_count": 21,
   "id": "554bc30a",
   "metadata": {
    "ExecuteTime": {
     "end_time": "2023-10-09T22:26:27.172020Z",
     "start_time": "2023-10-09T22:26:27.023346Z"
    }
   },
   "outputs": [],
   "source": [
    "### Iterate over individual ionizing output files for the assumed IMF/abundance ratio, combining them\n",
    "### into a single ascii table with one metallicity per row.\n",
    "\n",
    "nion_table = Table(names = nion_colnames, dtype = [str] + [float]*51)\n",
    "\n",
    "for file, metal in zip(nion_filenames, mets):\n",
    "    q_table = Table.read(nion_in_path+file+\".dat\", format='ascii')\n",
    "    \n",
    "    nion_table.add_row(np.hstack( ([metal], np.r_[q_table['col2']]) ))\n",
    "    \n",
    "nion_table.write(nion_out_path+\"Demo_Q_Table.txt\", format='ascii', names=nion_colnames, overwrite=True)"
   ]
  },
  {
   "cell_type": "markdown",
   "id": "cd1800c6",
   "metadata": {},
   "source": [
    "To confirm that the files we just made have the format that `SESAMME` expects, we can load them in using the functions `sesamme.models.load_ssp_cube()` and `sesamme.models.load_ionization_table()`."
   ]
  },
  {
   "cell_type": "code",
   "execution_count": null,
   "id": "e7f29a30",
   "metadata": {},
   "outputs": [],
   "source": [
    "modelcube = models.load_ssp_cube(\"/path/to/cube_file.fits\")\n",
    "\n",
    "iontable = models.load_ionization_table(\"/path/to/qtable_file.txt\")"
   ]
  },
  {
   "cell_type": "markdown",
   "id": "030d9f7d",
   "metadata": {},
   "source": [
    "Congrats, you've successfully created all of the necessary models for your SESAMME run! "
   ]
  }
 ],
 "metadata": {
  "kernelspec": {
   "display_name": "Python 3 (ipykernel)",
   "language": "python",
   "name": "python3"
  },
  "language_info": {
   "codemirror_mode": {
    "name": "ipython",
    "version": 3
   },
   "file_extension": ".py",
   "mimetype": "text/x-python",
   "name": "python",
   "nbconvert_exporter": "python",
   "pygments_lexer": "ipython3",
   "version": "3.7.16"
  }
 },
 "nbformat": 4,
 "nbformat_minor": 5
}
