{
 "cells": [
  {
   "cell_type": "markdown",
   "id": "2e0fd94a-7a48-48a1-95f2-df2fd5ada8ef",
   "metadata": {},
   "source": [
    "# SESAMME Demo"
   ]
  },
  {
   "cell_type": "markdown",
   "id": "f590d1cd-8d3c-4d98-9866-1f7d6bbc176a",
   "metadata": {},
   "source": [
    "## 1) Goals and introduction <a name=\"Introduction\"></a>"
   ]
  },
  {
   "cell_type": "markdown",
   "id": "76a90aab-d48c-4cf8-a209-6e5ee051080d",
   "metadata": {},
   "source": [
    "This notebook will walk users through the functionality of **SESAMME - \n",
    "Simultaneous Estimates of Star-cluster Age, Metallicity, Mass, and Extinction -** v1.0, which is a Python script for Bayesian inference of the properties of extragalactic star clusters.\n",
    "\n",
    "SESAMME is built on a combination of the affine invariant Markov chain Monte Carlo algorithm `emcee` (Foreman-Mackey et al. 2013) and user-specified suites of simple stellar population models (SSPs - for example, BPASS v2.2 \"Tuatara\" (Stanway & Eldridge 2018) and/or v2.3 \"Broc\" (Bryne+ 2022)). As the name implies, SESAMME v1.0 marginalizes over four physical parameters - the age, metallicity, and sometimes the mass of the star cluster, as well as the degree of reddening along the line of sight.\n",
    "\n",
    "By the end of this tutorial, you will have a working example of how to:\n",
    "1. Load in a cube of SSP models to compare against your data;\n",
    "2. Set up and execute a SESAMME run; and\n",
    "3. Perform standard post-processing analyses of the resulting fits.\n",
    "\n",
    "\n",
    "For an example of how to prepare a SESAMME model cube, please see the accompanying notebook `SESAMME Cubemaker Demo`. For illustrations of other steps in the modeling process (for example, how we rebinned our high-resolution spectra to the 1 A resolution of BPASS, or one way to create mock noise-added spectra of extragalactic star clusters), please see the accompanying notebook `Resampling Demo`."
   ]
  },
  {
   "cell_type": "markdown",
   "id": "5e1b1cbb-db61-44ad-b2a7-12da7b3f1492",
   "metadata": {},
   "source": [
    "1. [Introduction](#Introduction)\n",
    "2. [Imports](#Imports)\n",
    "3. [Setting up SESAMME's meta-parameters](#Setup)\n",
    "4. [Starting a SESAMME run](#Run)\n",
    "\n",
    "5. [Post-run analyses](#Post)\n",
    "    1. [Cleaning the MCMC chain](#Burn)\n",
    "    2. [Corner plots and statistics](#Corner)\n",
    "    3. [Visualizing a likely model](#Visualization)"
   ]
  },
  {
   "cell_type": "markdown",
   "id": "b3ce4f88-5c3a-487e-8add-758f98ab3963",
   "metadata": {},
   "source": [
    "## 2) Imports <a name=\"Imports\"></a>"
   ]
  },
  {
   "cell_type": "code",
   "execution_count": null,
   "id": "4c5df395",
   "metadata": {
    "ExecuteTime": {
     "end_time": "2023-09-12T14:39:19.357468Z",
     "start_time": "2023-09-12T14:39:19.124851Z"
    }
   },
   "outputs": [],
   "source": [
    "import sesamme.models as models\n",
    "import sesamme.mcmc as stats\n",
    "import sesamme.vis as vis\n",
    "import emcee\n",
    "import corner"
   ]
  },
  {
   "cell_type": "markdown",
   "id": "581221b7-cf4c-488c-89da-8ff8c6614432",
   "metadata": {},
   "source": [
    "This notebook (and SESAMME generally) uses the following packages:\n",
    "\n",
    "* **numpy** and **scipy** for handling array functions\n",
    "* **astropy** for handling FITS files\n",
    "* **emcee** (https://emcee.readthedocs.io/en/stable/) for the MCMC machinery\n",
    "* **extinction** (https://extinction.readthedocs.io/en/latest/) and **dust_extinction** (https://dust-extinction.readthedocs.io/en/stable/) for accessing extinction curves\n",
    "* **matplotlib** and **corner** for data visualization \n",
    "\n",
    "If you do not have these packages installed, you can install them using pip or conda."
   ]
  },
  {
   "cell_type": "markdown",
   "id": "d1ca280f-2f7c-4bd2-ae3c-34a05e89bca3",
   "metadata": {},
   "source": [
    "## 3) Setting up SESAMME's meta-parameters"
   ]
  },
  {
   "cell_type": "markdown",
   "id": "d41b3e0f-24b8-429d-b03b-bf8639604cd1",
   "metadata": {},
   "source": [
    "Before using SESAMME to model your spectrum, there are several meta-parameters that should be tweaked to fit your use case. These include specifying the attenuation curve used in the modeling; the size of the walker ensemble; the \"ball\" of initial positions for the walker ensemble; and ranges on the priors for each of the four variables.\n",
    "\n",
    "\n",
    "**Choosing an attenuation curve**\n",
    "\n",
    "During the model process, SESAMME will redden a model SSP by a specified amount using one of several attenuation curves. See the documentation for reference information on each curve. The options include:\n",
    "* Five options for a Milky Way-like curve ('CCM', 'ODonnell', 'Fitzpatrick99', 'FitzMassa07', 'Gordon23')\n",
    "* Curves based on the Large Magellanic Cloud ('LMC') and Small Magellanic Cloud ('SMC')\n",
    "* A starbursting galaxy curve ('Calzetti')\n",
    "\n",
    "The default option in the script version of SESAMME is the Milky Way attenuation curve of Cardelli, Clayton, & Mathis (1989). "
   ]
  },
  {
   "cell_type": "code",
   "execution_count": null,
   "id": "95e9bc39-cdbc-4ddf-9b95-f992151bf216",
   "metadata": {},
   "outputs": [],
   "source": [
    "# Set the extinction curve\n",
    "models.set_ext_law('CCM')"
   ]
  },
  {
   "cell_type": "markdown",
   "id": "1375b675-ab57-4fe6-9963-ca96df40bb1b",
   "metadata": {},
   "source": [
    "**Creating and initializing the emcee walker ensemble**\n",
    "\n",
    "emcee, the statistical backbone of SESAMME, uses an ensemble of \"walkers\" to explore the parameter space and determine what values provide likely fits to your data. You must specify the number of walkers prior to running SESAMME, as well as the number of steps in the chain. In general, more walkers iterating for fewer steps gives better constraints on the properties of a star cluster than few walkers iterating for many steps. The default number of walkers is 128. \n",
    "\n",
    "You must also initialize the walkers in parameter space. Here, we do so using normal distributions centered on arbitrary values of `log(age)`, `log(Z)`, `E(B-V)`, and amplitude `log(A)`, each with a relatively narrow dispersion. The values used below are reasonable approximations for a young, massive, and sub-solar metallicity star cluster."
   ]
  },
  {
   "cell_type": "code",
   "execution_count": null,
   "id": "6528b62a-0b8a-4ece-ae98-500aaa2c4c52",
   "metadata": {},
   "outputs": [],
   "source": [
    "# Set the dimensionality of the emcee walker ensemble to N x 4\n",
    "stats.set_walker_size(128)\n",
    "\n",
    "# Set the desired chain length\n",
    "stats.set_chain_size(5000)\n",
    "    \n",
    "# Set the initial positions of the walker ensemble\n",
    "stats.set_initial_positions([7., -2.1, 0.3, -2.])"
   ]
  },
  {
   "cell_type": "markdown",
   "id": "be1a0023-b8dc-45f1-9c99-b1ac0e5036bf",
   "metadata": {},
   "source": [
    "**Establish the parameter space and constrict the priors**\n",
    "\n",
    "In order to generate models during the MCMC process, SESAMME needs to know what its options are for values of metallicity and age. These need to be explicitly set by the user (as a dictionary) according to the SSP model set being used. We show an example of the required formatting below, using the BPASS metallicity and age ranges.\n",
    "\n",
    "Given these intervals, the parameter space explore by the MCMC walker ensemble in a given run can be further restricted through setting priors. By default, priors for all four variables have relatively broad ranges, but can be further restricted according to expectations about the age of the star cluster to be modeled, its metallicity, etc.\n",
    "\n",
    "Priors on the age, metallicity, and rescaling parameter A should be given in log-units, while E(B-V) is linear. E.g., if you're confident that your cluster is between 1 and 10 Myr old, you should respectively set 'age_low' and 'age_hi' to 6.0 and 7.0 in the dictionary defined below. In our example data for M83-8, Hernandez+ 19 estimate a solar-ish metallicity $Z$ = 0.013, so we can reasonably constrain the metallicity to be between $0.008 < Z < 0.03$."
   ]
  },
  {
   "cell_type": "code",
   "execution_count": null,
   "id": "c8ba40cc-8596-4c5e-abad-74657b45f31a",
   "metadata": {},
   "outputs": [],
   "source": [
    "# Set lower and upper boundaries for priors on the four parameters, IN ORDER:\n",
    "# log(age), log(Z), E(B-V), log(Ampl.)\n",
    "\n",
    "prior_lowbounds = [6.0, np.log10(0.008), 0.01, -20.]\n",
    "prior_highbounds = [7.5, np.log10(0.03), 1.0, 1.0]\n",
    "\n",
    "stats.set_prior_bounds(stats.prior_dict, prior_lowbounds, prior_highbounds)"
   ]
  },
  {
   "cell_type": "markdown",
   "id": "319557d2-2faf-4541-a3ac-eeb6cb24e05e",
   "metadata": {},
   "source": [
    "## 4) Starting a SESAMME run"
   ]
  },
  {
   "cell_type": "markdown",
   "id": "e256b7b1-cc04-434d-bb91-2ee44844aa0a",
   "metadata": {},
   "source": [
    "Load in 1) the model cube containing the SSP suite and 2) the table of ionizing production rates you want to use in your modeling. See the supplementary script **cube_maker.py** for information about how these files are created. "
   ]
  },
  {
   "cell_type": "code",
   "execution_count": null,
   "id": "1b8179c3",
   "metadata": {
    "ExecuteTime": {
     "end_time": "2023-09-12T14:39:19.427442Z",
     "start_time": "2023-09-12T14:39:19.359727Z"
    }
   },
   "outputs": [],
   "source": [
    "modelcube = models.load_ssp_cube(\"/path/to/cube_file.fits\")\n",
    "\n",
    "iontable = models.load_ionization_table(\"/path/to/qtable_file.txt\")"
   ]
  },
  {
   "cell_type": "markdown",
   "id": "1ac1c998-0dbf-46b9-aff9-4a6fab6ca3b4",
   "metadata": {},
   "source": [
    "Load in the spectrum of your star cluster. SESAMME assumes the spectrum has already been pre-processed (i.e., smoothed and rebinned, if necessary) and shifted to the rest frame. \n",
    "\n",
    "The example spectrum file contains HST/COS observations (with the G130M and G160M gratings) of a star cluster in M83. The spectrum has been corrected for the HI absorption profile around Lyman alpha; de-reddened according to the Galactic extinction maps of Schlafly & Finkbeiner 2011; shifted to the rest frame; and smoothed and regridded to the resolution of a BPASS model suite (1 A per pix). "
   ]
  },
  {
   "cell_type": "code",
   "execution_count": null,
   "id": "0457321e",
   "metadata": {
    "ExecuteTime": {
     "end_time": "2023-09-12T14:39:19.451179Z",
     "start_time": "2023-09-12T14:39:19.436254Z"
    }
   },
   "outputs": [],
   "source": [
    "# Natively comes in flux density units (erg s-1 cm-2 A-1)...\n",
    "specfile = Table.read(\"M83-8_fhrsg.txt\", format='ascii')\n",
    "wl = specfile['WL']\n",
    "flux = specfile['FLUX']\n",
    "flux_err = specfile['ERROR']\n",
    "\n",
    "# But rescaling to luminosity density units (L_Sun A-1) allows SESAMME to infer a stellar mass for the cluster\n",
    "lum = flux * 4*np.pi * (4.8*u.Mpc.to(u.cm))**2 / 3.83e33\n",
    "lum_err = flux_err * 4*np.pi * (4.8*u.Mpc.to(u.cm))**2 / 3.83e33\n",
    "\n",
    "windowlist = np.array([[np.min(wl), 1133], [1172, 1176.5],  [1188, 1202], [1203.8, 1222], \n",
    "                       [1257, 1262], [1299, 1305], [1331, 1336.2], [1276, 1286], [1454, 1456], [1465, 1469], \n",
    "                       [1390.5, 1393.5], [1399.5, 1403.3],\n",
    "                       [1523.5, 1529], [1543, 1550.], [1608.5, 1621], [1656, 1659], [1666, 1674], [1795, np.max(wl)] ])\n",
    "\n",
    "mask = models.get_mask(windowlist, wl)"
   ]
  },
  {
   "cell_type": "code",
   "execution_count": null,
   "id": "a8fdcfb0",
   "metadata": {
    "ExecuteTime": {
     "end_time": "2023-09-12T14:39:19.459353Z",
     "start_time": "2023-09-12T14:39:19.457127Z"
    },
    "scrolled": true
   },
   "outputs": [],
   "source": [
    "filename = \"M83_test.h5\"\n",
    "runname = 'Default'"
   ]
  },
  {
   "cell_type": "code",
   "execution_count": null,
   "id": "03c5f738",
   "metadata": {
    "ExecuteTime": {
     "end_time": "2023-09-12T14:39:42.024319Z",
     "start_time": "2023-09-12T14:39:19.467888Z"
    }
   },
   "outputs": [],
   "source": [
    "stats.run_sesamme(filename, runname, wl, lum, lum_err, modelcube, iontable, mask, True)"
   ]
  },
  {
   "cell_type": "markdown",
   "id": "e242c929-3e22-4707-a3c4-361838c7699b",
   "metadata": {},
   "source": [
    "## 5) Post-run analyses"
   ]
  },
  {
   "cell_type": "markdown",
   "id": "cf4dd7ef-0a46-454c-9552-77ff18a69760",
   "metadata": {},
   "source": [
    "To retrieve the results of an MCMC run, load in the relevant .H5 file. Don't forget to use the *name* parameter to specify which run to use, if multiple exist."
   ]
  },
  {
   "cell_type": "code",
   "execution_count": null,
   "id": "c311b5cf-864a-4c88-b1f8-4fee3c5bac79",
   "metadata": {},
   "outputs": [],
   "source": [
    "reader = emcee.backends.HDFBackend(filename, name = 'Default')\n",
    "samples = reader.get_chain()"
   ]
  },
  {
   "cell_type": "markdown",
   "id": "c09a2e5f-fae9-41dc-8261-8236ce5ffe6d",
   "metadata": {},
   "source": [
    "Create a time-series plot that shows the parameter values for each walker at each step in the chain. This will also allow you to determine visually how many \"burn-in steps\" should be excluded from the final analysis (see below)."
   ]
  },
  {
   "cell_type": "code",
   "execution_count": null,
   "id": "f20c55d5",
   "metadata": {
    "ExecuteTime": {
     "end_time": "2023-09-12T14:39:42.925098Z",
     "start_time": "2023-09-12T14:39:42.037837Z"
    }
   },
   "outputs": [],
   "source": [
    "fig, axes = plt.subplots(4, figsize=(9, 7), sharex=True)\n",
    "\n",
    "labels = [\"log(age/yr)\", r\"log(Z/Z$_{\\odot}$)\", \"E(B-V)\", \"log(A)\"]\n",
    "\n",
    "for i in range(stats.ndim):\n",
    "    ax = axes[i]\n",
    "    ax.plot(samples[:, :, i], \"k\", alpha=0.3)\n",
    "    ax.set_xlim(0, len(samples))\n",
    "    \n",
    "    ax.set_ylabel(labels[i])\n",
    "    ax.yaxis.set_label_coords(-0.1, 0.5)\n",
    "\n",
    "axes[-1].set_xlabel(\"step number\");"
   ]
  },
  {
   "cell_type": "markdown",
   "id": "db0cf944-a8db-4df3-81c6-227be937c202",
   "metadata": {},
   "source": [
    "Check the autocorrelation times for each parameter using the function `get_autocorr_time()` from `emcee`, which will determine the amount by which you should 'thin' the chain (see below).\n",
    "\n",
    "Note that if the MCMC chain is shorter than 50 times the autocorrelation time for any of the four parameters, `get_autocorr_time()` will throw an error. This is an indication that your chain should be run for longer if formal convergence is desired, though in practice we find that chains of length 50,000 steps are often sufficient regardless of formal convergence."
   ]
  },
  {
   "cell_type": "code",
   "execution_count": null,
   "id": "bbd2012f",
   "metadata": {
    "ExecuteTime": {
     "end_time": "2023-09-12T14:39:43.023007Z",
     "start_time": "2023-09-12T14:39:42.927298Z"
    }
   },
   "outputs": [],
   "source": [
    "tau = reader.get_autocorr_time()\n",
    "print(tau)"
   ]
  },
  {
   "cell_type": "markdown",
   "id": "8b46a0d2-f686-48a2-b851-cc5965c50272",
   "metadata": {},
   "source": [
    "Collapse the array of samples into a 4 x `nsteps` array. This is also where you:\n",
    "- Discard the burn-in steps, or early iterations in the chain where the walker ensemble begins to explore the parameter space\n",
    "- Thin the chain. Because the MCMC process retains some memory of previous iterations, you should only consider every *i*-th sample if you want a truly independent sampling of the posterior PDF. "
   ]
  },
  {
   "cell_type": "code",
   "execution_count": null,
   "id": "eeb463c8",
   "metadata": {
    "ExecuteTime": {
     "end_time": "2023-09-12T14:40:05.189984Z",
     "start_time": "2023-09-12T14:40:05.183636Z"
    }
   },
   "outputs": [],
   "source": [
    "# Edit the discard and thin parameters according to the results of your run\n",
    "flat_samples = reader.get_chain(discard=40, thin=10, flat=True) \n",
    "print(flat_samples.shape)"
   ]
  },
  {
   "cell_type": "markdown",
   "id": "028ecb13-dde5-46ae-a24e-5d27ec3a9074",
   "metadata": {},
   "source": [
    "Inspect the 1-D distributions of the four parameters and their covariances. Values in `range` can be tweaked to better show the breadth of values in the posterior PDF.\n",
    "\n",
    "You can also print the median and $\\pm$1$\\sigma$ values for each of the four parameters."
   ]
  },
  {
   "cell_type": "code",
   "execution_count": null,
   "id": "1430031f",
   "metadata": {
    "ExecuteTime": {
     "end_time": "2023-09-12T14:40:06.911777Z",
     "start_time": "2023-09-12T14:40:06.049573Z"
    }
   },
   "outputs": [],
   "source": [
    "fig = corner.corner(\n",
    "    flat_samples, labels=labels, truths=[np.log10(10e6), np.log10(0.0127), None, None], quantiles = [.16, .50, .84],\n",
    "    range=[(6.0,7.5), (-2.2, -1.5), (0.0,0.2), (-3, 0), ], smooth = 0.5, smooth1d = 0.5,\n",
    "    title_kwargs={\"fontsize\": 14, 'weight':'semibold'}, label_kwargs={\"fontsize\": 14, 'weight':'semibold'},\n",
    "    hist2d_kwargs={\"fontsize\": 14, 'weight':'semibold'}\n",
    ");"
   ]
  },
  {
   "cell_type": "code",
   "execution_count": null,
   "id": "8e3b9358",
   "metadata": {
    "ExecuteTime": {
     "end_time": "2023-09-12T14:40:11.180807Z",
     "start_time": "2023-09-12T14:40:11.171352Z"
    }
   },
   "outputs": [],
   "source": [
    "vis.print_stats(flat_samples)"
   ]
  },
  {
   "cell_type": "code",
   "execution_count": null,
   "id": "f66cf065",
   "metadata": {},
   "outputs": [],
   "source": []
  }
 ],
 "metadata": {
  "kernelspec": {
   "display_name": "Python 3 (ipykernel)",
   "language": "python",
   "name": "python3"
  },
  "language_info": {
   "codemirror_mode": {
    "name": "ipython",
    "version": 3
   },
   "file_extension": ".py",
   "mimetype": "text/x-python",
   "name": "python",
   "nbconvert_exporter": "python",
   "pygments_lexer": "ipython3",
   "version": "3.8.18"
  }
 },
 "nbformat": 4,
 "nbformat_minor": 5
}
